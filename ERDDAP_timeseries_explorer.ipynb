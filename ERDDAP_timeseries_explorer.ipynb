{
 "cells": [
  {
   "cell_type": "markdown",
   "metadata": {},
   "source": [
    "# Explore ERDDAP timeseries data using Jupyter Widgets\n",
    "Inspired by [Jason Grout's excellent ESIP Tech Dive talk on \"Jupyter Widgets\"](https://youtu.be/CVcrTRQkTxo?t=2596), this notebook uses the `ipyleaflet` and `bqplot` widgets\n",
    "to interactively explore the last two weeks of time series data from an ERDDAP Server. Select a `standard_name` from the list, then click a station to see the time series.  "
   ]
  },
  {
   "cell_type": "code",
   "execution_count": 1,
   "metadata": {},
   "outputs": [],
   "source": [
    "import numpy as np\n",
    "import pandas as pd"
   ]
  },
  {
   "cell_type": "markdown",
   "metadata": {},
   "source": [
    "`pendulum` is a drop-in replacement for `datetime`, with more useful functions"
   ]
  },
  {
   "cell_type": "code",
   "execution_count": 2,
   "metadata": {},
   "outputs": [],
   "source": [
    "import pendulum"
   ]
  },
  {
   "cell_type": "markdown",
   "metadata": {},
   "source": [
    "`ipyleaflet` and `bqplot` are both Jupyter widgets, so can interact with Python like any other widget.  Since we want to click on a map in a notebook and get an interactive time series plot, they are perfect tools to use here. "
   ]
  },
  {
   "cell_type": "code",
   "execution_count": 3,
   "metadata": {},
   "outputs": [],
   "source": [
    "import ipyleaflet as ipyl\n",
    "import bqplot as bq\n",
    "import ipywidgets as ipyw"
   ]
  },
  {
   "cell_type": "markdown",
   "metadata": {},
   "source": [
    "To make working with ERDDAP simpler, we use `erddapy`, a high-level python interface to ERDDAP's RESTful API"
   ]
  },
  {
   "cell_type": "code",
   "execution_count": 4,
   "metadata": {},
   "outputs": [],
   "source": [
    "from erddapy import ERDDAP"
   ]
  },
  {
   "cell_type": "markdown",
   "metadata": {},
   "source": [
    "This code should work with minor modifications on any ERDDAP (v1.64+) endpoint that has `cdm_data_type=timeseries` or `cdm_data_type=point` datasets.  Change the values for other ERDDAP endpoints or regions of interest"
   ]
  },
  {
   "cell_type": "code",
   "execution_count": 5,
   "metadata": {},
   "outputs": [],
   "source": [
    "endpoint = 'https://erddap-uncabled.oceanobservatories.org/uncabled/erddap'\n",
    "\n",
    "initial_standard_name = 'sea_water_temperature'\n",
    "\n",
    "nchar = 8 # number of characters for short dataset name\n",
    "cdm_data_type = 'Point'\n",
    "center = [35, -100]\n",
    "zoom = 1\n",
    "\n",
    "min_time = '2017-08-01T00:00:00Z'\n",
    "max_time = '2017-08-03T00:00:00Z'"
   ]
  },
  {
   "cell_type": "code",
   "execution_count": 6,
   "metadata": {},
   "outputs": [],
   "source": [
    "endpoint = 'http://erddap.sensors.ioos.us/erddap'\n",
    "\n",
    "initial_standard_name = 'sea_surface_wave_significant_height'\n",
    "\n",
    "nchar = 9 # number of characters for short dataset name\n",
    "cdm_data_type = 'TimeSeries'\n",
    "center = [35, -100]\n",
    "zoom = 3\n",
    "\n",
    "now = pendulum.now(tz='utc')\n",
    "max_time = now\n",
    "min_time = now.subtract(weeks=2) \n",
    "\n",
    "min_time = '2017-11-01T00:00:00Z'\n",
    "max_time = '2017-11-11T00:00:00Z'"
   ]
  },
  {
   "cell_type": "code",
   "execution_count": 7,
   "metadata": {},
   "outputs": [],
   "source": [
    "endpoint = 'https://gamone.whoi.edu/erddap'\n",
    "\n",
    "initial_standard_name = 'sea_water_temperature'\n",
    "\n",
    "nchar = 9 # number of characters for short dataset name\n",
    "cdm_data_type = 'TimeSeries'\n",
    "center = [35, -100]\n",
    "zoom = 3\n",
    "\n",
    "now = pendulum.now(tz='utc')\n",
    "\n",
    "max_time = now\n",
    "min_time = now.subtract(weeks=2) \n",
    "\n",
    "min_time = '2011-05-05T00:00:00Z'\n",
    "max_time = '2011-05-15T00:00:00Z'"
   ]
  },
  {
   "cell_type": "code",
   "execution_count": 8,
   "metadata": {},
   "outputs": [],
   "source": [
    "endpoint = 'http://ooivm1.whoi.net/erddap'\n",
    "\n",
    "initial_standard_name = 'wind_speed'\n",
    "\n",
    "nchar = 3 # number of characters for short dataset name\n",
    "cdm_data_type = 'TimeSeries'\n",
    "center = [42.5, -68]\n",
    "zoom = 6\n",
    "\n",
    "now = pendulum.now(tz='utc')\n",
    "\n",
    "max_time = now\n",
    "min_time = now.subtract(weeks=2) "
   ]
  },
  {
   "cell_type": "code",
   "execution_count": 9,
   "metadata": {},
   "outputs": [],
   "source": [
    "endpoint = 'http://www.neracoos.org/erddap'\n",
    "\n",
    "initial_standard_name = 'significant_height_of_wind_and_swell_waves'\n",
    "\n",
    "nchar = 3 # number of characters for short dataset name\n",
    "cdm_data_type = 'TimeSeries'\n",
    "center = [42.5, -68]\n",
    "zoom = 6\n",
    "\n",
    "now = pendulum.now(tz='utc')\n",
    "max_time = now\n",
    "min_time = now.subtract(weeks=2) "
   ]
  },
  {
   "cell_type": "code",
   "execution_count": 10,
   "metadata": {},
   "outputs": [],
   "source": [
    "e = ERDDAP(server=endpoint, protocol='tabledap')"
   ]
  },
  {
   "cell_type": "markdown",
   "metadata": {},
   "source": [
    "Find all the `standard_name` attributes that exist on this ERDDAP endpoint, using [ERDDAP's \"categorize\" service](http://www.neracoos.org/erddap/categorize/index.html)"
   ]
  },
  {
   "cell_type": "code",
   "execution_count": 11,
   "metadata": {},
   "outputs": [],
   "source": [
    "url='{}/categorize/standard_name/index.csv'.format(endpoint)\n",
    "df = pd.read_csv(url, skiprows=[1, 2])\n",
    "vars = df['Category'].values"
   ]
  },
  {
   "cell_type": "markdown",
   "metadata": {},
   "source": [
    "Create a dropdown menu widget with all the `standard_name` values found"
   ]
  },
  {
   "cell_type": "code",
   "execution_count": 12,
   "metadata": {},
   "outputs": [],
   "source": [
    "dpdown = ipyw.Dropdown(options=vars, value=initial_standard_name)"
   ]
  },
  {
   "cell_type": "markdown",
   "metadata": {},
   "source": [
    "This function convert an ERDDAP timeseries CSV response to a Pandas dataframe"
   ]
  },
  {
   "cell_type": "markdown",
   "metadata": {},
   "source": [
    "This function puts lon,lat and datasetID into a GeoJSON feature"
   ]
  },
  {
   "cell_type": "code",
   "execution_count": 13,
   "metadata": {},
   "outputs": [],
   "source": [
    "def point(dataset, lon, lat, nchar):\n",
    "    geojsonFeature = {\n",
    "        \"type\": \"Feature\",\n",
    "        \"properties\": {\n",
    "            \"datasetID\": dataset,\n",
    "            \"short_dataset_name\": dataset[:nchar]\n",
    "        },\n",
    "        \"geometry\": {\n",
    "            \"type\": \"Point\",\n",
    "            \"coordinates\": [lon, lat]\n",
    "        }\n",
    "    };\n",
    "    geojsonFeature['properties']['style'] = {'color': 'Grey'}\n",
    "    return geojsonFeature"
   ]
  },
  {
   "cell_type": "markdown",
   "metadata": {},
   "source": [
    "This function finds all the datasets with a given standard_name in the specified time period, and return GeoJSON"
   ]
  },
  {
   "cell_type": "code",
   "execution_count": 14,
   "metadata": {},
   "outputs": [],
   "source": [
    "def adv_search(e, standard_name, cdm_data_type, min_time, max_time):\n",
    "    try:\n",
    "        search_url = e.get_search_url(response='csv', \n",
    "                            cdm_data_type=cdm_data_type.lower(), \n",
    "                            items_per_page=100000,\n",
    "                            standard_name=standard_name, \n",
    "                            min_time=min_time, \n",
    "                            max_time=max_time)\n",
    "        df = pd.read_csv(search_url)\n",
    "    except:\n",
    "        df = []\n",
    "        if len(var)>14:\n",
    "            v = '{}...'.format(standard_name[:15])\n",
    "        else:\n",
    "            v = standard_name\n",
    "        figure.title = 'No {} found in this time range. Pick another variable.'.format(v)\n",
    "        figure.marks[0].y = 0.0 * figure.marks[0].y\n",
    "    return df"
   ]
  },
  {
   "cell_type": "markdown",
   "metadata": {},
   "source": [
    "This function returns the lon,lat vlaues from allDatasets"
   ]
  },
  {
   "cell_type": "code",
   "execution_count": 15,
   "metadata": {},
   "outputs": [],
   "source": [
    "def alllonlat(e, cdm_data_type, min_time, max_time):\n",
    "    url='{}/tabledap/allDatasets.csv?datasetID%2CminLongitude%2CminLatitude&cdm_data_type=%22{}%22&minTime%3C={}&maxTime%3E={}'.format(e.server,cdm_data_type,max_time,min_time)\n",
    "    df = pd.read_csv(url, skiprows=[1])\n",
    "    return df"
   ]
  },
  {
   "cell_type": "code",
   "execution_count": 16,
   "metadata": {},
   "outputs": [],
   "source": [
    "def stdname2geojson(e, standard_name, min_time, max_time, nchar):\n",
    "    '''return geojson containing lon, lat and datasetID for all matching stations'''\n",
    "    # find matching datsets using Advanced Search\n",
    "    dfa = adv_search(e, standard_name, cdm_data_type, min_time, max_time)\n",
    "    if isinstance(dfa, pd.DataFrame):\n",
    "        datasets = dfa['Dataset ID'].values\n",
    "        # find lon,lat values from allDatasets \n",
    "        dfll = alllonlat(e, cdm_data_type, min_time, max_time)\n",
    "        # extract lon,lat values of matching datasets from allDatasets dataframe\n",
    "        dfr = dfll[dfll['datasetID'].isin(dfa['Dataset ID'])]\n",
    "        # contruct the GeoJSON using fast itertuples\n",
    "        geojson = {'features':[point(row[1],row[2],row[3],nchar) for row in dfr.itertuples()]}\n",
    "    else:\n",
    "        geojson = {'features':[]}\n",
    "        datasets = []\n",
    "    return geojson, datasets"
   ]
  },
  {
   "cell_type": "markdown",
   "metadata": {},
   "source": [
    "This function updates the time series plot when a station marker is clicked"
   ]
  },
  {
   "cell_type": "code",
   "execution_count": 17,
   "metadata": {},
   "outputs": [],
   "source": [
    "def click_handler(event=None, id=None, properties=None):\n",
    "    datasetID = properties['datasetID']\n",
    "    constraints = {\n",
    "    'time>=': min_time,\n",
    "    'time<=': max_time\n",
    "    }    \n",
    "    df, var = get_data(datasetID, \n",
    "                       standard_name=dpdown.value, \n",
    "                       constraints=constraints)\n",
    "    figure.marks[0].x = df.index\n",
    "    figure.marks[0].y = df[var]\n",
    "    figure.title = '{} - {}'.format(properties['short_dataset_name'], var)"
   ]
  },
  {
   "cell_type": "markdown",
   "metadata": {},
   "source": [
    "This function updates the map when a new variable is selected"
   ]
  },
  {
   "cell_type": "code",
   "execution_count": 18,
   "metadata": {},
   "outputs": [],
   "source": [
    "def update_dpdown(change):\n",
    "    standard_name = change['new']\n",
    "    data, datasets = stdname2geojson(e, standard_name, min_time, max_time, nchar)\n",
    "    feature_layer = ipyl.GeoJSON(data=data)\n",
    "    feature_layer.on_click(click_handler)\n",
    "    map.layers = [map.layers[0], feature_layer]"
   ]
  },
  {
   "cell_type": "markdown",
   "metadata": {},
   "source": [
    "This specifies which function to use when a variable is selected from the dropdown list"
   ]
  },
  {
   "cell_type": "code",
   "execution_count": 19,
   "metadata": {},
   "outputs": [],
   "source": [
    "dpdown.observe(update_dpdown, names=['value'])"
   ]
  },
  {
   "cell_type": "markdown",
   "metadata": {},
   "source": [
    "This function returns the specified dataset time series values as a Pandas dataframe"
   ]
  },
  {
   "cell_type": "code",
   "execution_count": 20,
   "metadata": {},
   "outputs": [],
   "source": [
    "def get_data(dataset, standard_name=None, constraints=None):\n",
    "    var = e.get_var_by_attr(dataset_id=dataset, \n",
    "            standard_name=lambda v: str(v).lower() == standard_name)[0]\n",
    "    e.dataset_id=dataset\n",
    "    e.variables=['time',var]\n",
    "    e.response='csv'\n",
    "    e.constraints = constraints\n",
    "    df = e.to_pandas(index_col='time', parse_dates=True, skiprows=(1,))\n",
    "    return df, var"
   ]
  },
  {
   "cell_type": "markdown",
   "metadata": {},
   "source": [
    "This defines the initial `ipyleaflet` map "
   ]
  },
  {
   "cell_type": "code",
   "execution_count": 21,
   "metadata": {},
   "outputs": [],
   "source": [
    "map = ipyl.Map(center=center, zoom=zoom, layout=dict(width='650px', height='350px'))\n",
    "data, datasets = stdname2geojson(e, initial_standard_name, min_time, max_time, nchar)\n",
    "feature_layer = ipyl.GeoJSON(data=data)\n",
    "feature_layer.on_click(click_handler)\n",
    "map.layers = [map.layers[0], feature_layer]"
   ]
  },
  {
   "cell_type": "markdown",
   "metadata": {},
   "source": [
    "This defines the intitial `bqplot` time series plot"
   ]
  },
  {
   "cell_type": "code",
   "execution_count": 22,
   "metadata": {},
   "outputs": [],
   "source": [
    "dt_x = bq.DateScale()\n",
    "sc_y = bq.LinearScale()\n",
    "\n",
    "initial_dataset = datasets[0]\n",
    "constraints = {\n",
    "    'time>=': min_time,\n",
    "    'time<=': max_time\n",
    "}\n",
    "df, var = get_data(initial_dataset, \n",
    "                   standard_name=initial_standard_name,\n",
    "                   constraints=constraints)\n",
    "time_series = bq.Lines(x=df.index, y=df[var], scales={'x': dt_x, 'y': sc_y})\n",
    "ax_x = bq.Axis(scale=dt_x, label='Time')\n",
    "ax_y = bq.Axis(scale=sc_y, orientation='vertical')\n",
    "figure = bq.Figure(marks=[time_series], axes=[ax_x, ax_y])\n",
    "figure.title = '{} - {}'.format(initial_dataset[:nchar], var)\n",
    "figure.layout.height = '300px'\n",
    "figure.layout.width = '800px'"
   ]
  },
  {
   "cell_type": "markdown",
   "metadata": {},
   "source": [
    "This specifies the widget layout"
   ]
  },
  {
   "cell_type": "code",
   "execution_count": 23,
   "metadata": {},
   "outputs": [
    {
     "data": {
      "application/vnd.jupyter.widget-view+json": {
       "model_id": "ae4e5cc51a924db09d3989d5400d7ebd",
       "version_major": 2,
       "version_minor": 0
      },
      "text/plain": [
       "VBox(children=(Dropdown(index=121, options=('air_temp', 'air_temperature', 'air_temperature_data_quality', 'al…"
      ]
     },
     "metadata": {},
     "output_type": "display_data"
    }
   ],
   "source": [
    "ipyw.VBox([dpdown, map, figure])"
   ]
  },
  {
   "cell_type": "code",
   "execution_count": null,
   "metadata": {},
   "outputs": [],
   "source": []
  }
 ],
 "metadata": {
  "kernelspec": {
   "display_name": "Python 3",
   "language": "python",
   "name": "python3"
  },
  "language_info": {
   "codemirror_mode": {
    "name": "ipython",
    "version": 3
   },
   "file_extension": ".py",
   "mimetype": "text/x-python",
   "name": "python",
   "nbconvert_exporter": "python",
   "pygments_lexer": "ipython3",
   "version": "3.6.5"
  }
 },
 "nbformat": 4,
 "nbformat_minor": 2
}
